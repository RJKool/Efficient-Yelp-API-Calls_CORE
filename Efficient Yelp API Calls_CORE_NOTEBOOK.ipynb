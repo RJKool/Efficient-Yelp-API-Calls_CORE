{
 "cells": [
  {
   "cell_type": "markdown",
   "id": "69404f01",
   "metadata": {},
   "source": [
    "# Loading Your API Keys"
   ]
  },
  {
   "cell_type": "code",
   "execution_count": 1,
   "id": "492d4918",
   "metadata": {
    "scrolled": true
   },
   "outputs": [
    {
     "data": {
      "text/plain": [
       "dict_keys(['client-id', 'api-key'])"
      ]
     },
     "execution_count": 1,
     "metadata": {},
     "output_type": "execute_result"
    }
   ],
   "source": [
    "import json\n",
    "with open('/Users/Rashad/.secret/yelp_api.json') as c: #change the path to match YOUR path!!\n",
    "    login = json.load(c)\n",
    "login.keys()"
   ]
  },
  {
   "cell_type": "markdown",
   "id": "e2f19453",
   "metadata": {},
   "source": [
    "# Use the correct key of your login dictionary for your task"
   ]
  },
  {
   "cell_type": "code",
   "execution_count": 2,
   "id": "882df0e3",
   "metadata": {
    "scrolled": true
   },
   "outputs": [
    {
     "data": {
      "text/plain": [
       "<yelpapi.yelpapi.YelpAPI at 0x189bd8d8be0>"
      ]
     },
     "execution_count": 2,
     "metadata": {},
     "output_type": "execute_result"
    }
   ],
   "source": [
    "from yelpapi import YelpAPI\n",
    "yelp_api = YelpAPI(login['api-key'], timeout_s=5.0)\n",
    "yelp_api"
   ]
  },
  {
   "cell_type": "markdown",
   "id": "b3dcfbb6",
   "metadata": {},
   "source": [
    "# Test API key by performing a query."
   ]
  },
  {
   "cell_type": "code",
   "execution_count": 3,
   "id": "50456ab7",
   "metadata": {},
   "outputs": [
    {
     "name": "stdout",
     "output_type": "stream",
     "text": [
      "<class 'dict'>\n"
     ]
    },
    {
     "data": {
      "text/plain": [
       "dict_keys(['businesses', 'total', 'region'])"
      ]
     },
     "execution_count": 3,
     "metadata": {},
     "output_type": "execute_result"
    }
   ],
   "source": [
    "# Quick Test Query\n",
    "results = yelp_api.search_query(location='Baltimore, MD',\n",
    "                                       term='food')\n",
    "print(type(results))\n",
    "results.keys()"
   ]
  },
  {
   "cell_type": "markdown",
   "id": "ae69e754",
   "metadata": {},
   "source": [
    "---\n",
    "\n",
    "# Using YelpAPI to search for data using Yelp's [api search methods](https://github.com/lanl/yelpapi)\n",
    "\n",
    "* Autocomplete API - autocomplete_query(...)\n",
    "* Business API - business_query(...)\n",
    "* Business Match API - business_match_query(...)\n",
    "* Event Lookup API - event_lookup_query(...)\n",
    "* Event Search API - event_search_query(...)\n",
    "* Featured Event API - featured_event_query(...)\n",
    "* Phone Search API - phone_search_query(...)\n",
    "* Reviews API - reviews_query(...)\n",
    "* Search API - search_query(...)\n",
    "* Transaction Search API - transaction_search_query(...)"
   ]
  },
  {
   "cell_type": "code",
   "execution_count": 4,
   "id": "b0f07436",
   "metadata": {
    "scrolled": true
   },
   "outputs": [
    {
     "name": "stdout",
     "output_type": "stream",
     "text": [
      "Help on method search_query in module yelpapi.yelpapi:\n",
      "\n",
      "search_query(**kwargs) method of yelpapi.yelpapi.YelpAPI instance\n",
      "    Query the Yelp Search API.\n",
      "    \n",
      "    documentation: https://www.yelp.com/developers/documentation/v3/business_search\n",
      "    \n",
      "    required parameters:\n",
      "        * one of either:\n",
      "            * location - text specifying a location to search for\n",
      "            * latitude and longitude\n",
      "\n"
     ]
    }
   ],
   "source": [
    "# HELP FUNCTION TO SEE WHAT'S REQUIRED OF THE `search_query()` function.\n",
    "help(yelp_api.search_query)"
   ]
  },
  {
   "cell_type": "code",
   "execution_count": 5,
   "id": "ef576b71",
   "metadata": {
    "scrolled": true
   },
   "outputs": [
    {
     "data": {
      "text/html": [
       "<div>\n",
       "<style scoped>\n",
       "    .dataframe tbody tr th:only-of-type {\n",
       "        vertical-align: middle;\n",
       "    }\n",
       "\n",
       "    .dataframe tbody tr th {\n",
       "        vertical-align: top;\n",
       "    }\n",
       "\n",
       "    .dataframe thead th {\n",
       "        text-align: right;\n",
       "    }\n",
       "</style>\n",
       "<table border=\"1\" class=\"dataframe\">\n",
       "  <thead>\n",
       "    <tr style=\"text-align: right;\">\n",
       "      <th></th>\n",
       "      <th>id</th>\n",
       "      <th>alias</th>\n",
       "      <th>name</th>\n",
       "      <th>image_url</th>\n",
       "      <th>is_closed</th>\n",
       "      <th>url</th>\n",
       "      <th>review_count</th>\n",
       "      <th>categories</th>\n",
       "      <th>rating</th>\n",
       "      <th>coordinates</th>\n",
       "      <th>transactions</th>\n",
       "      <th>price</th>\n",
       "      <th>location</th>\n",
       "      <th>phone</th>\n",
       "      <th>display_phone</th>\n",
       "      <th>distance</th>\n",
       "    </tr>\n",
       "  </thead>\n",
       "  <tbody>\n",
       "    <tr>\n",
       "      <th>0</th>\n",
       "      <td>tf6-VbiMWfnujYL3l5gAwQ</td>\n",
       "      <td>café-dear-leon-baltimore</td>\n",
       "      <td>Café Dear Leon</td>\n",
       "      <td>https://s3-media2.fl.yelpcdn.com/bphoto/e7Ke64...</td>\n",
       "      <td>False</td>\n",
       "      <td>https://www.yelp.com/biz/caf%C3%A9-dear-leon-b...</td>\n",
       "      <td>250</td>\n",
       "      <td>[{'alias': 'cafes', 'title': 'Cafes'}, {'alias...</td>\n",
       "      <td>5.0</td>\n",
       "      <td>{'latitude': 39.279914, 'longitude': -76.57432}</td>\n",
       "      <td>[delivery]</td>\n",
       "      <td>$$</td>\n",
       "      <td>{'address1': '2929 O'Donnell St', 'address2': ...</td>\n",
       "      <td>+16673122977</td>\n",
       "      <td>(667) 312-2977</td>\n",
       "      <td>4424.463723</td>\n",
       "    </tr>\n",
       "    <tr>\n",
       "      <th>1</th>\n",
       "      <td>g1ANu-RMrc_PsI_5ggn6ug</td>\n",
       "      <td>ovenbird-bakery-baltimore</td>\n",
       "      <td>Ovenbird Bakery</td>\n",
       "      <td>https://s3-media2.fl.yelpcdn.com/bphoto/0GmB8e...</td>\n",
       "      <td>False</td>\n",
       "      <td>https://www.yelp.com/biz/ovenbird-bakery-balti...</td>\n",
       "      <td>192</td>\n",
       "      <td>[{'alias': 'bakeries', 'title': 'Bakeries'}, {...</td>\n",
       "      <td>5.0</td>\n",
       "      <td>{'latitude': 39.286596, 'longitude': -76.600793}</td>\n",
       "      <td>[delivery]</td>\n",
       "      <td>$</td>\n",
       "      <td>{'address1': '300 S Exeter St', 'address2': ''...</td>\n",
       "      <td>+14438859998</td>\n",
       "      <td>(443) 885-9998</td>\n",
       "      <td>2620.918430</td>\n",
       "    </tr>\n",
       "  </tbody>\n",
       "</table>\n",
       "</div>"
      ],
      "text/plain": [
       "                       id                      alias             name  \\\n",
       "0  tf6-VbiMWfnujYL3l5gAwQ   café-dear-leon-baltimore   Café Dear Leon   \n",
       "1  g1ANu-RMrc_PsI_5ggn6ug  ovenbird-bakery-baltimore  Ovenbird Bakery   \n",
       "\n",
       "                                           image_url  is_closed  \\\n",
       "0  https://s3-media2.fl.yelpcdn.com/bphoto/e7Ke64...      False   \n",
       "1  https://s3-media2.fl.yelpcdn.com/bphoto/0GmB8e...      False   \n",
       "\n",
       "                                                 url  review_count  \\\n",
       "0  https://www.yelp.com/biz/caf%C3%A9-dear-leon-b...           250   \n",
       "1  https://www.yelp.com/biz/ovenbird-bakery-balti...           192   \n",
       "\n",
       "                                          categories  rating  \\\n",
       "0  [{'alias': 'cafes', 'title': 'Cafes'}, {'alias...     5.0   \n",
       "1  [{'alias': 'bakeries', 'title': 'Bakeries'}, {...     5.0   \n",
       "\n",
       "                                        coordinates transactions price  \\\n",
       "0   {'latitude': 39.279914, 'longitude': -76.57432}   [delivery]    $$   \n",
       "1  {'latitude': 39.286596, 'longitude': -76.600793}   [delivery]     $   \n",
       "\n",
       "                                            location         phone  \\\n",
       "0  {'address1': '2929 O'Donnell St', 'address2': ...  +16673122977   \n",
       "1  {'address1': '300 S Exeter St', 'address2': ''...  +14438859998   \n",
       "\n",
       "    display_phone     distance  \n",
       "0  (667) 312-2977  4424.463723  \n",
       "1  (443) 885-9998  2620.918430  "
      ]
     },
     "execution_count": 5,
     "metadata": {},
     "output_type": "execute_result"
    }
   ],
   "source": [
    "import pandas as pd\n",
    "\n",
    "biz = pd.DataFrame(results['businesses'])\n",
    "biz.head(2) "
   ]
  },
  {
   "cell_type": "markdown",
   "id": "5a7b13f8",
   "metadata": {},
   "source": [
    "# Pagination and \"offset\""
   ]
  },
  {
   "cell_type": "code",
   "execution_count": 6,
   "id": "e1b5e938",
   "metadata": {
    "scrolled": true
   },
   "outputs": [
    {
     "data": {
      "text/plain": [
       "5500"
      ]
     },
     "execution_count": 6,
     "metadata": {},
     "output_type": "execute_result"
    }
   ],
   "source": [
    "results['total']"
   ]
  },
  {
   "cell_type": "code",
   "execution_count": 7,
   "id": "2735ddcf",
   "metadata": {},
   "outputs": [
    {
     "data": {
      "text/plain": [
       "20"
      ]
     },
     "execution_count": 7,
     "metadata": {},
     "output_type": "execute_result"
    }
   ],
   "source": [
    "len(results['businesses'])"
   ]
  },
  {
   "cell_type": "markdown",
   "id": "59da7690",
   "metadata": {},
   "source": [
    "The Yelp API will only return a \"page\" of 20 results at a time.\n",
    "\n",
    "* If we want to get the next page of results, we will perform another API call, but we will add an additional argument called \"offset.\"\n",
    "    * The offset is what # result to use as the FIRST result for the page.\n",
    "    * If we had 20 businesses in our first result, we would want to add an offset of 20."
   ]
  },
  {
   "cell_type": "code",
   "execution_count": 8,
   "id": "7ce6450e",
   "metadata": {},
   "outputs": [],
   "source": [
    "# add offset to our original api call\n",
    "results = yelp_api.search_query(location='Baltimore, MD',\n",
    "                                term='food',\n",
    "                                offset = 20)"
   ]
  },
  {
   "cell_type": "markdown",
   "id": "b7e20857",
   "metadata": {},
   "source": [
    "### Now check the results..."
   ]
  },
  {
   "cell_type": "code",
   "execution_count": 9,
   "id": "de26a7b7",
   "metadata": {
    "scrolled": false
   },
   "outputs": [
    {
     "data": {
      "text/html": [
       "<div>\n",
       "<style scoped>\n",
       "    .dataframe tbody tr th:only-of-type {\n",
       "        vertical-align: middle;\n",
       "    }\n",
       "\n",
       "    .dataframe tbody tr th {\n",
       "        vertical-align: top;\n",
       "    }\n",
       "\n",
       "    .dataframe thead th {\n",
       "        text-align: right;\n",
       "    }\n",
       "</style>\n",
       "<table border=\"1\" class=\"dataframe\">\n",
       "  <thead>\n",
       "    <tr style=\"text-align: right;\">\n",
       "      <th></th>\n",
       "      <th>id</th>\n",
       "      <th>alias</th>\n",
       "      <th>name</th>\n",
       "      <th>image_url</th>\n",
       "      <th>is_closed</th>\n",
       "      <th>url</th>\n",
       "      <th>review_count</th>\n",
       "      <th>categories</th>\n",
       "      <th>rating</th>\n",
       "      <th>coordinates</th>\n",
       "      <th>transactions</th>\n",
       "      <th>price</th>\n",
       "      <th>location</th>\n",
       "      <th>phone</th>\n",
       "      <th>display_phone</th>\n",
       "      <th>distance</th>\n",
       "    </tr>\n",
       "  </thead>\n",
       "  <tbody>\n",
       "    <tr>\n",
       "      <th>0</th>\n",
       "      <td>8-cBsSXmLaGK6qCD0tmcZg</td>\n",
       "      <td>the-food-market-baltimore</td>\n",
       "      <td>The Food Market</td>\n",
       "      <td>https://s3-media4.fl.yelpcdn.com/bphoto/8vVCxz...</td>\n",
       "      <td>False</td>\n",
       "      <td>https://www.yelp.com/biz/the-food-market-balti...</td>\n",
       "      <td>1361</td>\n",
       "      <td>[{'alias': 'newamerican', 'title': 'American (...</td>\n",
       "      <td>4.5</td>\n",
       "      <td>{'latitude': 39.3310122069348, 'longitude': -7...</td>\n",
       "      <td>[delivery]</td>\n",
       "      <td>$$</td>\n",
       "      <td>{'address1': '1017 W 36th St', 'address2': '',...</td>\n",
       "      <td>+14103660606</td>\n",
       "      <td>(410) 366-0606</td>\n",
       "      <td>3186.763707</td>\n",
       "    </tr>\n",
       "    <tr>\n",
       "      <th>1</th>\n",
       "      <td>ieS_5zqxDHcWMCm8BKUYbg</td>\n",
       "      <td>thames-street-oyster-house-baltimore</td>\n",
       "      <td>Thames Street Oyster House</td>\n",
       "      <td>https://s3-media4.fl.yelpcdn.com/bphoto/SLti9z...</td>\n",
       "      <td>False</td>\n",
       "      <td>https://www.yelp.com/biz/thames-street-oyster-...</td>\n",
       "      <td>3072</td>\n",
       "      <td>[{'alias': 'seafood', 'title': 'Seafood'}, {'a...</td>\n",
       "      <td>4.5</td>\n",
       "      <td>{'latitude': 39.28214, 'longitude': -76.59162}</td>\n",
       "      <td>[delivery]</td>\n",
       "      <td>$$$</td>\n",
       "      <td>{'address1': '1728 Thames St', 'address2': '',...</td>\n",
       "      <td>+14434497726</td>\n",
       "      <td>(443) 449-7726</td>\n",
       "      <td>3377.766396</td>\n",
       "    </tr>\n",
       "  </tbody>\n",
       "</table>\n",
       "</div>"
      ],
      "text/plain": [
       "                       id                                 alias  \\\n",
       "0  8-cBsSXmLaGK6qCD0tmcZg             the-food-market-baltimore   \n",
       "1  ieS_5zqxDHcWMCm8BKUYbg  thames-street-oyster-house-baltimore   \n",
       "\n",
       "                         name  \\\n",
       "0             The Food Market   \n",
       "1  Thames Street Oyster House   \n",
       "\n",
       "                                           image_url  is_closed  \\\n",
       "0  https://s3-media4.fl.yelpcdn.com/bphoto/8vVCxz...      False   \n",
       "1  https://s3-media4.fl.yelpcdn.com/bphoto/SLti9z...      False   \n",
       "\n",
       "                                                 url  review_count  \\\n",
       "0  https://www.yelp.com/biz/the-food-market-balti...          1361   \n",
       "1  https://www.yelp.com/biz/thames-street-oyster-...          3072   \n",
       "\n",
       "                                          categories  rating  \\\n",
       "0  [{'alias': 'newamerican', 'title': 'American (...     4.5   \n",
       "1  [{'alias': 'seafood', 'title': 'Seafood'}, {'a...     4.5   \n",
       "\n",
       "                                         coordinates transactions price  \\\n",
       "0  {'latitude': 39.3310122069348, 'longitude': -7...   [delivery]    $$   \n",
       "1     {'latitude': 39.28214, 'longitude': -76.59162}   [delivery]   $$$   \n",
       "\n",
       "                                            location         phone  \\\n",
       "0  {'address1': '1017 W 36th St', 'address2': '',...  +14103660606   \n",
       "1  {'address1': '1728 Thames St', 'address2': '',...  +14434497726   \n",
       "\n",
       "    display_phone     distance  \n",
       "0  (410) 366-0606  3186.763707  \n",
       "1  (443) 449-7726  3377.766396  "
      ]
     },
     "execution_count": 9,
     "metadata": {},
     "output_type": "execute_result"
    }
   ],
   "source": [
    "biz20 = pd.DataFrame(results['businesses'])\n",
    "biz20.head(2)"
   ]
  },
  {
   "cell_type": "markdown",
   "id": "1391e70f",
   "metadata": {},
   "source": [
    "# Now you can combine the results (so far) into one dataframe using pd.concat()"
   ]
  },
  {
   "cell_type": "code",
   "execution_count": 10,
   "id": "012164f8",
   "metadata": {
    "scrolled": true
   },
   "outputs": [
    {
     "data": {
      "text/html": [
       "<div>\n",
       "<style scoped>\n",
       "    .dataframe tbody tr th:only-of-type {\n",
       "        vertical-align: middle;\n",
       "    }\n",
       "\n",
       "    .dataframe tbody tr th {\n",
       "        vertical-align: top;\n",
       "    }\n",
       "\n",
       "    .dataframe thead th {\n",
       "        text-align: right;\n",
       "    }\n",
       "</style>\n",
       "<table border=\"1\" class=\"dataframe\">\n",
       "  <thead>\n",
       "    <tr style=\"text-align: right;\">\n",
       "      <th></th>\n",
       "      <th>id</th>\n",
       "      <th>alias</th>\n",
       "      <th>name</th>\n",
       "      <th>image_url</th>\n",
       "      <th>is_closed</th>\n",
       "      <th>url</th>\n",
       "      <th>review_count</th>\n",
       "      <th>categories</th>\n",
       "      <th>rating</th>\n",
       "      <th>coordinates</th>\n",
       "      <th>transactions</th>\n",
       "      <th>price</th>\n",
       "      <th>location</th>\n",
       "      <th>phone</th>\n",
       "      <th>display_phone</th>\n",
       "      <th>distance</th>\n",
       "    </tr>\n",
       "  </thead>\n",
       "  <tbody>\n",
       "    <tr>\n",
       "      <th>0</th>\n",
       "      <td>tf6-VbiMWfnujYL3l5gAwQ</td>\n",
       "      <td>café-dear-leon-baltimore</td>\n",
       "      <td>Café Dear Leon</td>\n",
       "      <td>https://s3-media2.fl.yelpcdn.com/bphoto/e7Ke64...</td>\n",
       "      <td>False</td>\n",
       "      <td>https://www.yelp.com/biz/caf%C3%A9-dear-leon-b...</td>\n",
       "      <td>250</td>\n",
       "      <td>[{'alias': 'cafes', 'title': 'Cafes'}, {'alias...</td>\n",
       "      <td>5.0</td>\n",
       "      <td>{'latitude': 39.279914, 'longitude': -76.57432}</td>\n",
       "      <td>[delivery]</td>\n",
       "      <td>$$</td>\n",
       "      <td>{'address1': '2929 O'Donnell St', 'address2': ...</td>\n",
       "      <td>+16673122977</td>\n",
       "      <td>(667) 312-2977</td>\n",
       "      <td>4424.463723</td>\n",
       "    </tr>\n",
       "    <tr>\n",
       "      <th>1</th>\n",
       "      <td>g1ANu-RMrc_PsI_5ggn6ug</td>\n",
       "      <td>ovenbird-bakery-baltimore</td>\n",
       "      <td>Ovenbird Bakery</td>\n",
       "      <td>https://s3-media2.fl.yelpcdn.com/bphoto/0GmB8e...</td>\n",
       "      <td>False</td>\n",
       "      <td>https://www.yelp.com/biz/ovenbird-bakery-balti...</td>\n",
       "      <td>192</td>\n",
       "      <td>[{'alias': 'bakeries', 'title': 'Bakeries'}, {...</td>\n",
       "      <td>5.0</td>\n",
       "      <td>{'latitude': 39.286596, 'longitude': -76.600793}</td>\n",
       "      <td>[delivery]</td>\n",
       "      <td>$</td>\n",
       "      <td>{'address1': '300 S Exeter St', 'address2': ''...</td>\n",
       "      <td>+14438859998</td>\n",
       "      <td>(443) 885-9998</td>\n",
       "      <td>2620.918430</td>\n",
       "    </tr>\n",
       "    <tr>\n",
       "      <th>2</th>\n",
       "      <td>wVrYzb_zfcQGaeZQ63Cs-g</td>\n",
       "      <td>good-neighbor-baltimore</td>\n",
       "      <td>good neighbor</td>\n",
       "      <td>https://s3-media3.fl.yelpcdn.com/bphoto/c52mvc...</td>\n",
       "      <td>False</td>\n",
       "      <td>https://www.yelp.com/biz/good-neighbor-baltimo...</td>\n",
       "      <td>117</td>\n",
       "      <td>[{'alias': 'coffee', 'title': 'Coffee &amp; Tea'},...</td>\n",
       "      <td>4.5</td>\n",
       "      <td>{'latitude': 39.3347706280897, 'longitude': -7...</td>\n",
       "      <td>[delivery]</td>\n",
       "      <td>$$</td>\n",
       "      <td>{'address1': '3827 Falls Rd', 'address2': '', ...</td>\n",
       "      <td>+14436278919</td>\n",
       "      <td>(443) 627-8919</td>\n",
       "      <td>3670.986380</td>\n",
       "    </tr>\n",
       "  </tbody>\n",
       "</table>\n",
       "</div>"
      ],
      "text/plain": [
       "                       id                      alias             name  \\\n",
       "0  tf6-VbiMWfnujYL3l5gAwQ   café-dear-leon-baltimore   Café Dear Leon   \n",
       "1  g1ANu-RMrc_PsI_5ggn6ug  ovenbird-bakery-baltimore  Ovenbird Bakery   \n",
       "2  wVrYzb_zfcQGaeZQ63Cs-g    good-neighbor-baltimore    good neighbor   \n",
       "\n",
       "                                           image_url  is_closed  \\\n",
       "0  https://s3-media2.fl.yelpcdn.com/bphoto/e7Ke64...      False   \n",
       "1  https://s3-media2.fl.yelpcdn.com/bphoto/0GmB8e...      False   \n",
       "2  https://s3-media3.fl.yelpcdn.com/bphoto/c52mvc...      False   \n",
       "\n",
       "                                                 url  review_count  \\\n",
       "0  https://www.yelp.com/biz/caf%C3%A9-dear-leon-b...           250   \n",
       "1  https://www.yelp.com/biz/ovenbird-bakery-balti...           192   \n",
       "2  https://www.yelp.com/biz/good-neighbor-baltimo...           117   \n",
       "\n",
       "                                          categories  rating  \\\n",
       "0  [{'alias': 'cafes', 'title': 'Cafes'}, {'alias...     5.0   \n",
       "1  [{'alias': 'bakeries', 'title': 'Bakeries'}, {...     5.0   \n",
       "2  [{'alias': 'coffee', 'title': 'Coffee & Tea'},...     4.5   \n",
       "\n",
       "                                         coordinates transactions price  \\\n",
       "0    {'latitude': 39.279914, 'longitude': -76.57432}   [delivery]    $$   \n",
       "1   {'latitude': 39.286596, 'longitude': -76.600793}   [delivery]     $   \n",
       "2  {'latitude': 39.3347706280897, 'longitude': -7...   [delivery]    $$   \n",
       "\n",
       "                                            location         phone  \\\n",
       "0  {'address1': '2929 O'Donnell St', 'address2': ...  +16673122977   \n",
       "1  {'address1': '300 S Exeter St', 'address2': ''...  +14438859998   \n",
       "2  {'address1': '3827 Falls Rd', 'address2': '', ...  +14436278919   \n",
       "\n",
       "    display_phone     distance  \n",
       "0  (667) 312-2977  4424.463723  \n",
       "1  (443) 885-9998  2620.918430  \n",
       "2  (443) 627-8919  3670.986380  "
      ]
     },
     "metadata": {},
     "output_type": "display_data"
    },
    {
     "data": {
      "text/html": [
       "<div>\n",
       "<style scoped>\n",
       "    .dataframe tbody tr th:only-of-type {\n",
       "        vertical-align: middle;\n",
       "    }\n",
       "\n",
       "    .dataframe tbody tr th {\n",
       "        vertical-align: top;\n",
       "    }\n",
       "\n",
       "    .dataframe thead th {\n",
       "        text-align: right;\n",
       "    }\n",
       "</style>\n",
       "<table border=\"1\" class=\"dataframe\">\n",
       "  <thead>\n",
       "    <tr style=\"text-align: right;\">\n",
       "      <th></th>\n",
       "      <th>id</th>\n",
       "      <th>alias</th>\n",
       "      <th>name</th>\n",
       "      <th>image_url</th>\n",
       "      <th>is_closed</th>\n",
       "      <th>url</th>\n",
       "      <th>review_count</th>\n",
       "      <th>categories</th>\n",
       "      <th>rating</th>\n",
       "      <th>coordinates</th>\n",
       "      <th>transactions</th>\n",
       "      <th>price</th>\n",
       "      <th>location</th>\n",
       "      <th>phone</th>\n",
       "      <th>display_phone</th>\n",
       "      <th>distance</th>\n",
       "    </tr>\n",
       "  </thead>\n",
       "  <tbody>\n",
       "    <tr>\n",
       "      <th>37</th>\n",
       "      <td>SvVrpe8VqglIRNhfOo1_1A</td>\n",
       "      <td>iron-rooster-baltimore</td>\n",
       "      <td>Iron Rooster</td>\n",
       "      <td>https://s3-media2.fl.yelpcdn.com/bphoto/ZV8WyY...</td>\n",
       "      <td>False</td>\n",
       "      <td>https://www.yelp.com/biz/iron-rooster-baltimor...</td>\n",
       "      <td>1033</td>\n",
       "      <td>[{'alias': 'tradamerican', 'title': 'American ...</td>\n",
       "      <td>4.0</td>\n",
       "      <td>{'latitude': 39.2764795638087, 'longitude': -7...</td>\n",
       "      <td>[delivery, pickup]</td>\n",
       "      <td>$$</td>\n",
       "      <td>{'address1': '3721 Boston St', 'address2': '',...</td>\n",
       "      <td>+14107622100</td>\n",
       "      <td>(410) 762-2100</td>\n",
       "      <td>5239.549640</td>\n",
       "    </tr>\n",
       "    <tr>\n",
       "      <th>38</th>\n",
       "      <td>rtJyAgZTFkPigOSXdvD-HA</td>\n",
       "      <td>mama-rosa-grill-baltimore-baltimore</td>\n",
       "      <td>Mama Rosa Grill - Baltimore</td>\n",
       "      <td>https://s3-media1.fl.yelpcdn.com/bphoto/d3AhAe...</td>\n",
       "      <td>False</td>\n",
       "      <td>https://www.yelp.com/biz/mama-rosa-grill-balti...</td>\n",
       "      <td>45</td>\n",
       "      <td>[{'alias': 'filipino', 'title': 'Filipino'}]</td>\n",
       "      <td>4.5</td>\n",
       "      <td>{'latitude': 39.250009, 'longitude': -76.6392977}</td>\n",
       "      <td>[delivery, pickup]</td>\n",
       "      <td>$$</td>\n",
       "      <td>{'address1': '3321 Annapolis Rd', 'address2': ...</td>\n",
       "      <td>+14104699600</td>\n",
       "      <td>(410) 469-9600</td>\n",
       "      <td>7144.171066</td>\n",
       "    </tr>\n",
       "    <tr>\n",
       "      <th>39</th>\n",
       "      <td>BctKgpeSMajSnqAC4tJ6hA</td>\n",
       "      <td>yeeros-baltimore</td>\n",
       "      <td>Yeeros</td>\n",
       "      <td>https://s3-media4.fl.yelpcdn.com/bphoto/CuB6yy...</td>\n",
       "      <td>False</td>\n",
       "      <td>https://www.yelp.com/biz/yeeros-baltimore?adju...</td>\n",
       "      <td>62</td>\n",
       "      <td>[{'alias': 'greek', 'title': 'Greek'}]</td>\n",
       "      <td>5.0</td>\n",
       "      <td>{'latitude': 39.2765, 'longitude': -76.61351}</td>\n",
       "      <td>[delivery, pickup]</td>\n",
       "      <td>NaN</td>\n",
       "      <td>{'address1': '17 E Cross St', 'address2': None...</td>\n",
       "      <td>+16672604998</td>\n",
       "      <td>(667) 260-4998</td>\n",
       "      <td>3668.718621</td>\n",
       "    </tr>\n",
       "  </tbody>\n",
       "</table>\n",
       "</div>"
      ],
      "text/plain": [
       "                        id                                alias  \\\n",
       "37  SvVrpe8VqglIRNhfOo1_1A               iron-rooster-baltimore   \n",
       "38  rtJyAgZTFkPigOSXdvD-HA  mama-rosa-grill-baltimore-baltimore   \n",
       "39  BctKgpeSMajSnqAC4tJ6hA                     yeeros-baltimore   \n",
       "\n",
       "                           name  \\\n",
       "37                 Iron Rooster   \n",
       "38  Mama Rosa Grill - Baltimore   \n",
       "39                       Yeeros   \n",
       "\n",
       "                                            image_url  is_closed  \\\n",
       "37  https://s3-media2.fl.yelpcdn.com/bphoto/ZV8WyY...      False   \n",
       "38  https://s3-media1.fl.yelpcdn.com/bphoto/d3AhAe...      False   \n",
       "39  https://s3-media4.fl.yelpcdn.com/bphoto/CuB6yy...      False   \n",
       "\n",
       "                                                  url  review_count  \\\n",
       "37  https://www.yelp.com/biz/iron-rooster-baltimor...          1033   \n",
       "38  https://www.yelp.com/biz/mama-rosa-grill-balti...            45   \n",
       "39  https://www.yelp.com/biz/yeeros-baltimore?adju...            62   \n",
       "\n",
       "                                           categories  rating  \\\n",
       "37  [{'alias': 'tradamerican', 'title': 'American ...     4.0   \n",
       "38       [{'alias': 'filipino', 'title': 'Filipino'}]     4.5   \n",
       "39             [{'alias': 'greek', 'title': 'Greek'}]     5.0   \n",
       "\n",
       "                                          coordinates        transactions  \\\n",
       "37  {'latitude': 39.2764795638087, 'longitude': -7...  [delivery, pickup]   \n",
       "38  {'latitude': 39.250009, 'longitude': -76.6392977}  [delivery, pickup]   \n",
       "39      {'latitude': 39.2765, 'longitude': -76.61351}  [delivery, pickup]   \n",
       "\n",
       "   price                                           location         phone  \\\n",
       "37    $$  {'address1': '3721 Boston St', 'address2': '',...  +14107622100   \n",
       "38    $$  {'address1': '3321 Annapolis Rd', 'address2': ...  +14104699600   \n",
       "39   NaN  {'address1': '17 E Cross St', 'address2': None...  +16672604998   \n",
       "\n",
       "     display_phone     distance  \n",
       "37  (410) 762-2100  5239.549640  \n",
       "38  (410) 469-9600  7144.171066  \n",
       "39  (667) 260-4998  3668.718621  "
      ]
     },
     "metadata": {},
     "output_type": "display_data"
    }
   ],
   "source": [
    "## concatenate the previous results and new results. \n",
    "businesses = pd.concat([biz, biz20], ignore_index=True)\n",
    "\n",
    "display(businesses.head(3), businesses.tail(3))"
   ]
  },
  {
   "cell_type": "code",
   "execution_count": 11,
   "id": "d70b8175",
   "metadata": {},
   "outputs": [
    {
     "data": {
      "text/plain": [
       "'[{\"id\":\"tf6-VbiMWfnujYL3l5gAwQ\",\"alias\":\"caf\\\\u00e9-dear-leon-baltimore\",\"name\":\"Caf\\\\u00e9 Dear Leon\",\"image_url\":\"https:\\\\/\\\\/s3-media2.fl.yelpcdn.com\\\\/bphoto\\\\/e7Ke64vUi9K6R3FQA9yczw\\\\/o.jpg\",\"is_closed\":false,\"url\":\"https:\\\\/\\\\/www.yelp.com\\\\/biz\\\\/caf%C3%A9-dear-leon-baltimore?adjust_creative=eXgc5GOsWJUbUzVXXSFHSQ&utm_campaign=yelp_api_v3&utm_medium=api_v3_business_search&utm_source=eXgc5GOsWJUbUzVXXSFHSQ\",\"review_count\":250,\"categories\":[{\"alias\":\"cafes\",\"title\":\"Cafes\"},{\"alias\":\"bakeries\",\"title\":\"Bakeries\"},{\"alias\":\"desserts\",\"title\":\"Desserts\"}],\"rating\":5.0,\"coordinates\":{\"latitude\":39.279914,\"longitude\":-76.57432},\"transactions\":[\"delivery\"],\"price\":\"$$\",\"location\":{\"address1\":\"2929 O\\'Donnell St\",\"address2\":\"\",\"address3\":null,\"city\":\"Baltimore\",\"zip_code\":\"21224\",\"country\":\"US\",\"state\":\"MD\",\"display_address\":[\"2929 O\\'Donnell St\",\"Baltimore, MD 21224\"]},\"phone\":\"+16673122977\",\"display_phone\":\"(667) 312-2977\",\"distance\":4424.4637232493},{\"id\":\"g1ANu-RMrc_PsI_5ggn6ug\",\"alias\":\"ovenbird-bakery-baltimore\",\"name\":\"Ovenbird Bakery\",\"image_url\":\"https:\\\\/\\\\/s3-media2.fl.yelpcdn.com\\\\/bphoto\\\\/0GmB8eX4H3JIOcl-NLX7Wg\\\\/o.jpg\",\"is_closed\":false,\"url\":\"https:\\\\/\\\\/www.yelp.com\\\\/biz\\\\/ovenbird-bakery-baltimore?adjust_creative=eXgc5GOsWJUbUzVXXSFHSQ&utm_campaign=yelp_api_v3&utm_medium=api_v3_business_search&utm_source=eXgc5GOsWJUbUzVXXSFHSQ\",\"review_count\":192,\"categories\":[{\"alias\":\"bakeries\",\"title\":\"Bakeries\"},{\"alias\":\"bagels\",\"title\":\"Bagels\"},{\"alias\":\"sandwiches\",\"title\":\"Sandwiches\"}],\"rating\":5.0,\"coordinates\":{\"latitude\":39.286596,\"longitude\":-76.600793},\"transactions\":[\"delivery\"],\"price\":\"$\",\"location\":{\"address1\":\"300 S Exeter St\",\"address2\":\"\",\"address3\":null,\"city\":\"Baltimore\",\"zip_code\":\"21202\",\"country\":\"US\",\"state\":\"MD\",\"display_address\":[\"300 S Exeter St\",\"Baltimore, MD 21202\"]},\"phone\":\"+14438859998\",\"display_phone\":\"(443) 885-9998\",\"distance\":2620.9184300542},{\"id\":\"wVrYzb_zfcQGaeZQ63Cs-g\",\"alias\":\"good-neighbor-baltimore\",\"name\":\"good neighbor\",\"image_url\":\"https:\\\\/\\\\/s3-media3.fl.yelpcdn.com\\\\/bphoto\\\\/c52mvcF5aYxO-esqq7Sgww\\\\/o.jpg\",\"is_closed\":false,\"url\":\"https:\\\\/\\\\/www.yelp.com\\\\/biz\\\\/good-neighbor-baltimore?adjust_creative=eXgc5GOsWJUbUzVXXSFHSQ&utm_campaign=yelp_api_v3&utm_medium=api_v3_business_search&utm_source=eXgc5GOsWJUbUzVXXSFHSQ\",\"review_count\":117,\"categories\":[{\"alias\":\"coffee\",\"title\":\"Coffee & Tea\"},{\"alias\":\"breakfast_brunch\",\"title\":\"Breakfast & Brunch\"},{\"alias\":\"sandwiches\",\"title\":\"Sandwiches\"}],\"rating\":4.5,\"coordinates\":{\"latitude\":39.3347706281,\"longitude\":-76.636168889},\"transactions\":[\"delivery\"],\"price\":\"$$\",\"location\":{\"address1\":\"3827 Falls Rd\",\"address2\":\"\",\"address3\":null,\"city\":\"Baltimore\",\"zip_code\":\"21211\",\"country\":\"US\",\"state\":\"MD\",\"display_address\":[\"3827 Falls Rd\",\"Baltimore, MD 21211\"]},\"phone\":\"+14436278919\",\"display_phone\":\"(443) 627-8919\",\"distance\":3670.9863803828},{\"id\":\"mYPLuzBh0uz2JzcQIlSknQ\",\"alias\":\"easy-like-sunday-baltimore\",\"name\":\"Easy Like Sunday\",\"image_url\":\"https:\\\\/\\\\/s3-media4.fl.yelpcdn.com\\\\/bphoto\\\\/NTB1QJ_olI0yZ-3Z6zymOA\\\\/o.jpg\",\"is_closed\":false,\"url\":\"https:\\\\/\\\\/www.yelp.com\\\\/biz\\\\/easy-like-sunday-baltimore?adjust_creative=eXgc5GOsWJUbUzVXXSFHSQ&utm_campaign=yelp_api_v3&utm_medium=api_v3_business_search&utm_source=eXgc5GOsWJUbUzVXXSFHSQ\",\"review_count\":72,\"categories\":[{\"alias\":\"breakfast_brunch\",\"title\":\"Breakfast & Brunch\"}],\"rating\":4.5,\"coordinates\":{\"latitude\":39.355594,\"longitude\":-76.646403},\"transactions\":[],\"price\":\"$$\",\"location\":{\"address1\":\"66 Village Square\",\"address2\":\"\",\"address3\":null,\"city\":\"Baltimore\",\"zip_code\":\"21210\",\"country\":\"US\",\"state\":\"MD\",\"display_address\":[\"66 Village Square\",\"Baltimore, MD 21210\"]},\"phone\":\"+14107019840\",\"display_phone\":\"(410) 701-9840\",\"distance\":6070.3099745548},{\"id\":\"EyzwOeUWwoKGeZcOcVUW0A\",\"alias\":\"ekiben-baltimore-3\",\"name\":\"Ekiben\",\"image_url\":\"https:\\\\/\\\\/s3-media3.fl.yelpcdn.com\\\\/bphoto\\\\/aH5mx7-bjPn5MijMNSaADg\\\\/o.jpg\",\"is_closed\":false,\"url\":\"https:\\\\/\\\\/www.yelp.com\\\\/biz\\\\/ekiben-baltimore-3?adjust_creative=eXgc5GOsWJUbUzVXXSFHSQ&utm_campaign=yelp_api_v3&utm_medium=api_v3_business_search&utm_source=eXgc5GOsWJUbUzVXXSFHSQ\",\"review_count\":1730,\"categories\":[{\"alias\":\"asianfusion\",\"title\":\"Asian Fusion\"},{\"alias\":\"sandwiches\",\"title\":\"Sandwiches\"}],\"rating\":5.0,\"coordinates\":{\"latitude\":39.2857429,\"longitude\":-76.594557},\"transactions\":[\"delivery\"],\"price\":\"$$\",\"location\":{\"address1\":\"1622 Eastern Ave\",\"address2\":\"\",\"address3\":\"\",\"city\":\"Baltimore\",\"zip_code\":\"21231\",\"country\":\"US\",\"state\":\"MD\",\"display_address\":[\"1622 Eastern Ave\",\"Baltimore, MD 21231\"]},\"phone\":\"\",\"display_phone\":\"\",\"distance\":2899.3769673606},{\"id\":\"URoxgIAhHvGHFSjXSzsn4g\",\"alias\":\"kitsch-cafe-baltimore\",\"name\":\"Kitsch Cafe\",\"image_url\":\"https:\\\\/\\\\/s3-media1.fl.yelpcdn.com\\\\/bphoto\\\\/XybAUU3Ft6j5Vq3UsykMuQ\\\\/o.jpg\",\"is_closed\":false,\"url\":\"https:\\\\/\\\\/www.yelp.com\\\\/biz\\\\/kitsch-cafe-baltimore?adjust_creative=eXgc5GOsWJUbUzVXXSFHSQ&utm_campaign=yelp_api_v3&utm_medium=api_v3_business_search&utm_source=eXgc5GOsWJUbUzVXXSFHSQ\",\"review_count\":55,\"categories\":[{\"alias\":\"coffee\",\"title\":\"Coffee & Tea\"},{\"alias\":\"juicebars\",\"title\":\"Juice Bars & Smoothies\"},{\"alias\":\"sandwiches\",\"title\":\"Sandwiches\"}],\"rating\":4.5,\"coordinates\":{\"latitude\":39.337294,\"longitude\":-76.6244},\"transactions\":[\"delivery\"],\"price\":\"$$\",\"location\":{\"address1\":\"500 W University Pkwy\",\"address2\":\"\",\"address3\":null,\"city\":\"Baltimore\",\"zip_code\":\"21210\",\"country\":\"US\",\"state\":\"MD\",\"display_address\":[\"500 W University Pkwy\",\"Baltimore, MD 21210\"]},\"phone\":\"+14437594056\",\"display_phone\":\"(443) 759-4056\",\"distance\":3386.4240698385},{\"id\":\"u65W69AhbjUlvJJBkEhGNQ\",\"alias\":\"miss-shirleys-cafe-baltimore-9\",\"name\":\"Miss Shirley\\'s Cafe\",\"image_url\":\"https:\\\\/\\\\/s3-media3.fl.yelpcdn.com\\\\/bphoto\\\\/HF-IryHz7buWRPcjnz-nGw\\\\/o.jpg\",\"is_closed\":false,\"url\":\"https:\\\\/\\\\/www.yelp.com\\\\/biz\\\\/miss-shirleys-cafe-baltimore-9?adjust_creative=eXgc5GOsWJUbUzVXXSFHSQ&utm_campaign=yelp_api_v3&utm_medium=api_v3_business_search&utm_source=eXgc5GOsWJUbUzVXXSFHSQ\",\"review_count\":3362,\"categories\":[{\"alias\":\"breakfast_brunch\",\"title\":\"Breakfast & Brunch\"},{\"alias\":\"tradamerican\",\"title\":\"American (Traditional)\"},{\"alias\":\"cafes\",\"title\":\"Cafes\"}],\"rating\":4.0,\"coordinates\":{\"latitude\":39.2870995,\"longitude\":-76.6053657},\"transactions\":[\"delivery\"],\"price\":\"$$\",\"location\":{\"address1\":\"750 E Pratt St\",\"address2\":\"\",\"address3\":\"\",\"city\":\"Baltimore\",\"zip_code\":\"21202\",\"country\":\"US\",\"state\":\"MD\",\"display_address\":[\"750 E Pratt St\",\"Baltimore, MD 21202\"]},\"phone\":\"+14105285373\",\"display_phone\":\"(410) 528-5373\",\"distance\":2487.21589392},{\"id\":\"lx6ZQjgZDvL0Rz9LmXtTKg\",\"alias\":\"charmed-baltimore\",\"name\":\"Charmed.\",\"image_url\":\"https:\\\\/\\\\/s3-media2.fl.yelpcdn.com\\\\/bphoto\\\\/e9AV7X8oamvpklsugp8jCQ\\\\/o.jpg\",\"is_closed\":false,\"url\":\"https:\\\\/\\\\/www.yelp.com\\\\/biz\\\\/charmed-baltimore?adjust_creative=eXgc5GOsWJUbUzVXXSFHSQ&utm_campaign=yelp_api_v3&utm_medium=api_v3_business_search&utm_source=eXgc5GOsWJUbUzVXXSFHSQ\",\"review_count\":84,\"categories\":[{\"alias\":\"newamerican\",\"title\":\"American (New)\"},{\"alias\":\"cafes\",\"title\":\"Cafes\"}],\"rating\":4.5,\"coordinates\":{\"latitude\":39.29951,\"longitude\":-76.61334},\"transactions\":[\"pickup\"],\"price\":null,\"location\":{\"address1\":\"824 N Calvert St\",\"address2\":null,\"address3\":\"\",\"city\":\"Baltimore\",\"zip_code\":\"21202\",\"country\":\"US\",\"state\":\"MD\",\"display_address\":[\"824 N Calvert St\",\"Baltimore, MD 21202\"]},\"phone\":\"+14438352803\",\"display_phone\":\"(443) 835-2803\",\"distance\":1153.4041912878},{\"id\":\"YbVUvq431skxiiqKiEhLqg\",\"alias\":\"allora-baltimore\",\"name\":\"Allora\",\"image_url\":\"https:\\\\/\\\\/s3-media2.fl.yelpcdn.com\\\\/bphoto\\\\/YqMdPK8yCe03C7DJXH1MbA\\\\/o.jpg\",\"is_closed\":false,\"url\":\"https:\\\\/\\\\/www.yelp.com\\\\/biz\\\\/allora-baltimore?adjust_creative=eXgc5GOsWJUbUzVXXSFHSQ&utm_campaign=yelp_api_v3&utm_medium=api_v3_business_search&utm_source=eXgc5GOsWJUbUzVXXSFHSQ\",\"review_count\":52,\"categories\":[{\"alias\":\"breakfast_brunch\",\"title\":\"Breakfast & Brunch\"},{\"alias\":\"coffee\",\"title\":\"Coffee & Tea\"}],\"rating\":4.5,\"coordinates\":{\"latitude\":39.3013,\"longitude\":-76.61561},\"transactions\":[],\"price\":null,\"location\":{\"address1\":\"1005 N Charles St\",\"address2\":\"\",\"address3\":null,\"city\":\"Baltimore\",\"zip_code\":\"21201\",\"country\":\"US\",\"state\":\"MD\",\"display_address\":[\"1005 N Charles St\",\"Baltimore, MD 21201\"]},\"phone\":\"+14434385499\",\"display_phone\":\"(443) 438-5499\",\"distance\":1052.9570831389},{\"id\":\"6MZj0Us7FsKyxaHKpzLuTQ\",\"alias\":\"chachis-baltimore\",\"name\":\"Chachis\",\"image_url\":\"https:\\\\/\\\\/s3-media1.fl.yelpcdn.com\\\\/bphoto\\\\/JUXek3bYF5RZ4qh_64u8xg\\\\/o.jpg\",\"is_closed\":false,\"url\":\"https:\\\\/\\\\/www.yelp.com\\\\/biz\\\\/chachis-baltimore?adjust_creative=eXgc5GOsWJUbUzVXXSFHSQ&utm_campaign=yelp_api_v3&utm_medium=api_v3_business_search&utm_source=eXgc5GOsWJUbUzVXXSFHSQ\",\"review_count\":7,\"categories\":[{\"alias\":\"newamerican\",\"title\":\"American (New)\"},{\"alias\":\"salad\",\"title\":\"Salad\"}],\"rating\":5.0,\"coordinates\":{\"latitude\":39.3151312211,\"longitude\":-76.617828899},\"transactions\":[],\"price\":null,\"location\":{\"address1\":\"2223 Maryland Ave\",\"address2\":\"\",\"address3\":null,\"city\":\"Baltimore\",\"zip_code\":\"21218\",\"country\":\"US\",\"state\":\"MD\",\"display_address\":[\"2223 Maryland Ave\",\"Baltimore, MD 21218\"]},\"phone\":\"\",\"display_phone\":\"\",\"distance\":997.112749002},{\"id\":\"Tr38JvUaPkpfXYGKGlWy5g\",\"alias\":\"bunnys-buckets-and-bubbles-baltimore\",\"name\":\"Bunnys Buckets & Bubbles\",\"image_url\":\"https:\\\\/\\\\/s3-media1.fl.yelpcdn.com\\\\/bphoto\\\\/fjWrnpWFJJU-pEvQ1VBEDg\\\\/o.jpg\",\"is_closed\":false,\"url\":\"https:\\\\/\\\\/www.yelp.com\\\\/biz\\\\/bunnys-buckets-and-bubbles-baltimore?adjust_creative=eXgc5GOsWJUbUzVXXSFHSQ&utm_campaign=yelp_api_v3&utm_medium=api_v3_business_search&utm_source=eXgc5GOsWJUbUzVXXSFHSQ\",\"review_count\":23,\"categories\":[{\"alias\":\"chickenshop\",\"title\":\"Chicken Shop\"},{\"alias\":\"cocktailbars\",\"title\":\"Cocktail Bars\"}],\"rating\":4.5,\"coordinates\":{\"latitude\":39.28256,\"longitude\":-76.59095},\"transactions\":[],\"price\":null,\"location\":{\"address1\":\"801 S Ann St\",\"address2\":\"\",\"address3\":null,\"city\":\"Baltimore\",\"zip_code\":\"21231\",\"country\":\"US\",\"state\":\"MD\",\"display_address\":[\"801 S Ann St\",\"Baltimore, MD 21231\"]},\"phone\":\"\",\"display_phone\":\"\",\"distance\":3353.1043697222},{\"id\":\"8noXwvC2lMTODTX7X8pVDw\",\"alias\":\"kong-pocha-baltimore-2\",\"name\":\"Kong Pocha\",\"image_url\":\"https:\\\\/\\\\/s3-media3.fl.yelpcdn.com\\\\/bphoto\\\\/hh1U4vuwVgrj-5Px62pcbw\\\\/o.jpg\",\"is_closed\":false,\"url\":\"https:\\\\/\\\\/www.yelp.com\\\\/biz\\\\/kong-pocha-baltimore-2?adjust_creative=eXgc5GOsWJUbUzVXXSFHSQ&utm_campaign=yelp_api_v3&utm_medium=api_v3_business_search&utm_source=eXgc5GOsWJUbUzVXXSFHSQ\",\"review_count\":162,\"categories\":[{\"alias\":\"korean\",\"title\":\"Korean\"},{\"alias\":\"bbq\",\"title\":\"Barbeque\"},{\"alias\":\"asianfusion\",\"title\":\"Asian Fusion\"}],\"rating\":4.5,\"coordinates\":{\"latitude\":39.31242,\"longitude\":-76.61722},\"transactions\":[\"pickup\",\"delivery\"],\"price\":\"$$\",\"location\":{\"address1\":\"12 W 20th St\",\"address2\":null,\"address3\":\"\",\"city\":\"Baltimore\",\"zip_code\":\"21218\",\"country\":\"US\",\"state\":\"MD\",\"display_address\":[\"12 W 20th St\",\"Baltimore, MD 21218\"]},\"phone\":\"+14108018963\",\"display_phone\":\"(410) 801-8963\",\"distance\":783.2228530212},{\"id\":\"1Yye-gDhqZkC9UDtWG21yQ\",\"alias\":\"dosirock-baltimore\",\"name\":\"DosiRock\",\"image_url\":\"https:\\\\/\\\\/s3-media2.fl.yelpcdn.com\\\\/bphoto\\\\/BRTB7lWNkzpemqbMx8GiHg\\\\/o.jpg\",\"is_closed\":false,\"url\":\"https:\\\\/\\\\/www.yelp.com\\\\/biz\\\\/dosirock-baltimore?adjust_creative=eXgc5GOsWJUbUzVXXSFHSQ&utm_campaign=yelp_api_v3&utm_medium=api_v3_business_search&utm_source=eXgc5GOsWJUbUzVXXSFHSQ\",\"review_count\":8,\"categories\":[{\"alias\":\"korean\",\"title\":\"Korean\"}],\"rating\":5.0,\"coordinates\":{\"latitude\":39.2910720514,\"longitude\":-76.6216859221},\"transactions\":[],\"price\":null,\"location\":{\"address1\":\"112 N Eutaw St\",\"address2\":\"\",\"address3\":null,\"city\":\"Baltimore\",\"zip_code\":\"21201\",\"country\":\"US\",\"state\":\"MD\",\"display_address\":[\"112 N Eutaw St\",\"Baltimore, MD 21201\"]},\"phone\":\"\",\"display_phone\":\"\",\"distance\":2299.1515945489},{\"id\":\"sdNaP8ecfDXzoigTjO2oTg\",\"alias\":\"blue-moon-cafe-baltimore\",\"name\":\"Blue Moon Cafe\",\"image_url\":\"https:\\\\/\\\\/s3-media4.fl.yelpcdn.com\\\\/bphoto\\\\/4dAwg7BP1fPe3bfJD_jadQ\\\\/o.jpg\",\"is_closed\":false,\"url\":\"https:\\\\/\\\\/www.yelp.com\\\\/biz\\\\/blue-moon-cafe-baltimore?adjust_creative=eXgc5GOsWJUbUzVXXSFHSQ&utm_campaign=yelp_api_v3&utm_medium=api_v3_business_search&utm_source=eXgc5GOsWJUbUzVXXSFHSQ\",\"review_count\":2520,\"categories\":[{\"alias\":\"breakfast_brunch\",\"title\":\"Breakfast & Brunch\"},{\"alias\":\"tradamerican\",\"title\":\"American (Traditional)\"}],\"rating\":4.0,\"coordinates\":{\"latitude\":39.2834011214,\"longitude\":-76.594254461},\"transactions\":[\"delivery\"],\"price\":\"$$\",\"location\":{\"address1\":\"1621 Aliceanna St\",\"address2\":\"\",\"address3\":\"\",\"city\":\"Baltimore\",\"zip_code\":\"21231\",\"country\":\"US\",\"state\":\"MD\",\"display_address\":[\"1621 Aliceanna St\",\"Baltimore, MD 21231\"]},\"phone\":\"+14105223940\",\"display_phone\":\"(410) 522-3940\",\"distance\":3146.931012173},{\"id\":\"B82cpig_hNiBsM77tXMQmA\",\"alias\":\"kajiken-baltimore\",\"name\":\"Kajiken\",\"image_url\":\"https:\\\\/\\\\/s3-media3.fl.yelpcdn.com\\\\/bphoto\\\\/DBalZZeaQEW65jmT2phyDw\\\\/o.jpg\",\"is_closed\":false,\"url\":\"https:\\\\/\\\\/www.yelp.com\\\\/biz\\\\/kajiken-baltimore?adjust_creative=eXgc5GOsWJUbUzVXXSFHSQ&utm_campaign=yelp_api_v3&utm_medium=api_v3_business_search&utm_source=eXgc5GOsWJUbUzVXXSFHSQ\",\"review_count\":78,\"categories\":[{\"alias\":\"ramen\",\"title\":\"Ramen\"}],\"rating\":4.5,\"coordinates\":{\"latitude\":39.327879,\"longitude\":-76.616392},\"transactions\":[],\"price\":null,\"location\":{\"address1\":\"7 E 33rd St\",\"address2\":\"\",\"address3\":null,\"city\":\"Baltimore\",\"zip_code\":\"21218\",\"country\":\"US\",\"state\":\"MD\",\"display_address\":[\"7 E 33rd St\",\"Baltimore, MD 21218\"]},\"phone\":\"+14438354617\",\"display_phone\":\"(443) 835-4617\",\"distance\":2167.5592865804},{\"id\":\"bZfYoDF5ximRJdioy3hbVw\",\"alias\":\"estiatorio-plaka-baltimore\",\"name\":\"Estiatorio Plaka\",\"image_url\":\"https:\\\\/\\\\/s3-media3.fl.yelpcdn.com\\\\/bphoto\\\\/WE8PuVRSSsct667I5L2ZXA\\\\/o.jpg\",\"is_closed\":false,\"url\":\"https:\\\\/\\\\/www.yelp.com\\\\/biz\\\\/estiatorio-plaka-baltimore?adjust_creative=eXgc5GOsWJUbUzVXXSFHSQ&utm_campaign=yelp_api_v3&utm_medium=api_v3_business_search&utm_source=eXgc5GOsWJUbUzVXXSFHSQ\",\"review_count\":14,\"categories\":[{\"alias\":\"greek\",\"title\":\"Greek\"},{\"alias\":\"bakeries\",\"title\":\"Bakeries\"},{\"alias\":\"bars\",\"title\":\"Bars\"}],\"rating\":4.5,\"coordinates\":{\"latitude\":39.28727,\"longitude\":-76.556},\"transactions\":[],\"price\":null,\"location\":{\"address1\":\"4718 Eastern Ave\",\"address2\":\"\",\"address3\":null,\"city\":\"Baltimore\",\"zip_code\":\"21224\",\"country\":\"US\",\"state\":\"MD\",\"display_address\":[\"4718 Eastern Ave\",\"Baltimore, MD 21224\"]},\"phone\":\"+14338330330\",\"display_phone\":\"(433) 833-0330\",\"distance\":5178.0234223311},{\"id\":\"Xayjp8lOBLcnOKk6AUZrxA\",\"alias\":\"doobys-baltimore\",\"name\":\"Dooby\\'s\",\"image_url\":\"https:\\\\/\\\\/s3-media3.fl.yelpcdn.com\\\\/bphoto\\\\/Zx1Qx-FyWbRK3GYNadcxag\\\\/o.jpg\",\"is_closed\":false,\"url\":\"https:\\\\/\\\\/www.yelp.com\\\\/biz\\\\/doobys-baltimore?adjust_creative=eXgc5GOsWJUbUzVXXSFHSQ&utm_campaign=yelp_api_v3&utm_medium=api_v3_business_search&utm_source=eXgc5GOsWJUbUzVXXSFHSQ\",\"review_count\":692,\"categories\":[{\"alias\":\"coffee\",\"title\":\"Coffee & Tea\"},{\"alias\":\"asianfusion\",\"title\":\"Asian Fusion\"},{\"alias\":\"breakfast_brunch\",\"title\":\"Breakfast & Brunch\"}],\"rating\":4.0,\"coordinates\":{\"latitude\":39.2988230069,\"longitude\":-76.6158836452},\"transactions\":[\"delivery\",\"pickup\"],\"price\":\"$$\",\"location\":{\"address1\":\"802 N Charles St\",\"address2\":null,\"address3\":\"\",\"city\":\"Baltimore\",\"zip_code\":\"21201\",\"country\":\"US\",\"state\":\"MD\",\"display_address\":[\"802 N Charles St\",\"Baltimore, MD 21201\"]},\"phone\":\"+14106093162\",\"display_phone\":\"(410) 609-3162\",\"distance\":1304.0043024884},{\"id\":\"NKTh3O4TuW5AwBQs2buLMw\",\"alias\":\"cafe-fili-baltimore\",\"name\":\"Cafe Fili\",\"image_url\":\"https:\\\\/\\\\/s3-media2.fl.yelpcdn.com\\\\/bphoto\\\\/uM4TpXRi1anpDlmzY4zV-g\\\\/o.jpg\",\"is_closed\":false,\"url\":\"https:\\\\/\\\\/www.yelp.com\\\\/biz\\\\/cafe-fili-baltimore?adjust_creative=eXgc5GOsWJUbUzVXXSFHSQ&utm_campaign=yelp_api_v3&utm_medium=api_v3_business_search&utm_source=eXgc5GOsWJUbUzVXXSFHSQ\",\"review_count\":185,\"categories\":[{\"alias\":\"mediterranean\",\"title\":\"Mediterranean\"},{\"alias\":\"cafes\",\"title\":\"Cafes\"},{\"alias\":\"lebanese\",\"title\":\"Lebanese\"}],\"rating\":4.5,\"coordinates\":{\"latitude\":39.2993052007,\"longitude\":-76.6172727256},\"transactions\":[\"pickup\",\"delivery\"],\"price\":\"$$\",\"location\":{\"address1\":\"816 Cathedral St\",\"address2\":\"\",\"address3\":null,\"city\":\"Baltimore\",\"zip_code\":\"21201\",\"country\":\"US\",\"state\":\"MD\",\"display_address\":[\"816 Cathedral St\",\"Baltimore, MD 21201\"]},\"phone\":\"+14102441600\",\"display_phone\":\"(410) 244-1600\",\"distance\":1316.6589138982},{\"id\":\"ygIvlvnEQ4lqqseuBHzWsg\",\"alias\":\"jbgb-s-baltimore\",\"name\":\"JBGB\\\\u2019s\",\"image_url\":\"https:\\\\/\\\\/s3-media2.fl.yelpcdn.com\\\\/bphoto\\\\/W8uqsa0_fRtSH6qG2li6Vw\\\\/o.jpg\",\"is_closed\":false,\"url\":\"https:\\\\/\\\\/www.yelp.com\\\\/biz\\\\/jbgb-s-baltimore?adjust_creative=eXgc5GOsWJUbUzVXXSFHSQ&utm_campaign=yelp_api_v3&utm_medium=api_v3_business_search&utm_source=eXgc5GOsWJUbUzVXXSFHSQ\",\"review_count\":73,\"categories\":[{\"alias\":\"sandwiches\",\"title\":\"Sandwiches\"},{\"alias\":\"butcher\",\"title\":\"Butcher\"},{\"alias\":\"pizza\",\"title\":\"Pizza\"}],\"rating\":4.5,\"coordinates\":{\"latitude\":39.319510142,\"longitude\":-76.6200355129},\"transactions\":[],\"price\":\"$$\",\"location\":{\"address1\":\"2600 N Howard St\",\"address2\":\"\",\"address3\":null,\"city\":\"Baltimore\",\"zip_code\":\"21218\",\"country\":\"US\",\"state\":\"MD\",\"display_address\":[\"2600 N Howard St\",\"Baltimore, MD 21218\"]},\"phone\":\"+16673097735\",\"display_phone\":\"(667) 309-7735\",\"distance\":1478.9637231413},{\"id\":\"hnp0zRslN1ntbJ4_C3n8nw\",\"alias\":\"maxim\\\\u00f3n-baltimore\",\"name\":\"Maxim\\\\u00f3n\",\"image_url\":\"https:\\\\/\\\\/s3-media4.fl.yelpcdn.com\\\\/bphoto\\\\/hnU8DANWYYVRKAfTomlhtg\\\\/o.jpg\",\"is_closed\":false,\"url\":\"https:\\\\/\\\\/www.yelp.com\\\\/biz\\\\/maxim%C3%B3n-baltimore?adjust_creative=eXgc5GOsWJUbUzVXXSFHSQ&utm_campaign=yelp_api_v3&utm_medium=api_v3_business_search&utm_source=eXgc5GOsWJUbUzVXXSFHSQ\",\"review_count\":250,\"categories\":[{\"alias\":\"latin\",\"title\":\"Latin American\"},{\"alias\":\"mexican\",\"title\":\"Mexican\"}],\"rating\":4.0,\"coordinates\":{\"latitude\":39.282370994,\"longitude\":-76.6024878356},\"transactions\":[\"delivery\"],\"price\":null,\"location\":{\"address1\":\"200 International Dr\",\"address2\":null,\"address3\":\"\",\"city\":\"Baltimore\",\"zip_code\":\"21202\",\"country\":\"US\",\"state\":\"MD\",\"display_address\":[\"200 International Dr\",\"Baltimore, MD 21202\"]},\"phone\":\"+14109273020\",\"display_phone\":\"(410) 927-3020\",\"distance\":3045.4678638566},{\"id\":\"8-cBsSXmLaGK6qCD0tmcZg\",\"alias\":\"the-food-market-baltimore\",\"name\":\"The Food Market\",\"image_url\":\"https:\\\\/\\\\/s3-media4.fl.yelpcdn.com\\\\/bphoto\\\\/8vVCxzcUGXcU9fU4Y9mTsg\\\\/o.jpg\",\"is_closed\":false,\"url\":\"https:\\\\/\\\\/www.yelp.com\\\\/biz\\\\/the-food-market-baltimore?adjust_creative=eXgc5GOsWJUbUzVXXSFHSQ&utm_campaign=yelp_api_v3&utm_medium=api_v3_business_search&utm_source=eXgc5GOsWJUbUzVXXSFHSQ\",\"review_count\":1361,\"categories\":[{\"alias\":\"newamerican\",\"title\":\"American (New)\"}],\"rating\":4.5,\"coordinates\":{\"latitude\":39.3310122069,\"longitude\":-76.6331992056},\"transactions\":[\"delivery\"],\"price\":\"$$\",\"location\":{\"address1\":\"1017 W 36th St\",\"address2\":\"\",\"address3\":\"\",\"city\":\"Baltimore\",\"zip_code\":\"21211\",\"country\":\"US\",\"state\":\"MD\",\"display_address\":[\"1017 W 36th St\",\"Baltimore, MD 21211\"]},\"phone\":\"+14103660606\",\"display_phone\":\"(410) 366-0606\",\"distance\":3186.7637069942},{\"id\":\"ieS_5zqxDHcWMCm8BKUYbg\",\"alias\":\"thames-street-oyster-house-baltimore\",\"name\":\"Thames Street Oyster House\",\"image_url\":\"https:\\\\/\\\\/s3-media4.fl.yelpcdn.com\\\\/bphoto\\\\/SLti9zFJjM7IWO3UC8vH3w\\\\/o.jpg\",\"is_closed\":false,\"url\":\"https:\\\\/\\\\/www.yelp.com\\\\/biz\\\\/thames-street-oyster-house-baltimore?adjust_creative=eXgc5GOsWJUbUzVXXSFHSQ&utm_campaign=yelp_api_v3&utm_medium=api_v3_business_search&utm_source=eXgc5GOsWJUbUzVXXSFHSQ\",\"review_count\":3072,\"categories\":[{\"alias\":\"seafood\",\"title\":\"Seafood\"},{\"alias\":\"raw_food\",\"title\":\"Live\\\\/Raw Food\"}],\"rating\":4.5,\"coordinates\":{\"latitude\":39.28214,\"longitude\":-76.59162},\"transactions\":[\"delivery\"],\"price\":\"$$$\",\"location\":{\"address1\":\"1728 Thames St\",\"address2\":\"\",\"address3\":\"\",\"city\":\"Baltimore\",\"zip_code\":\"21231\",\"country\":\"US\",\"state\":\"MD\",\"display_address\":[\"1728 Thames St\",\"Baltimore, MD 21231\"]},\"phone\":\"+14434497726\",\"display_phone\":\"(443) 449-7726\",\"distance\":3377.7663956166},{\"id\":\"7G6v_LoHwUi1L0y8z6mlJA\",\"alias\":\"chaps-pit-beef-baltimore\",\"name\":\"Chaps Pit Beef\",\"image_url\":\"https:\\\\/\\\\/s3-media4.fl.yelpcdn.com\\\\/bphoto\\\\/ydEA8ZdPBIUcwWHvbrnbwg\\\\/o.jpg\",\"is_closed\":false,\"url\":\"https:\\\\/\\\\/www.yelp.com\\\\/biz\\\\/chaps-pit-beef-baltimore?adjust_creative=eXgc5GOsWJUbUzVXXSFHSQ&utm_campaign=yelp_api_v3&utm_medium=api_v3_business_search&utm_source=eXgc5GOsWJUbUzVXXSFHSQ\",\"review_count\":1431,\"categories\":[{\"alias\":\"southern\",\"title\":\"Southern\"},{\"alias\":\"bbq\",\"title\":\"Barbeque\"},{\"alias\":\"sandwiches\",\"title\":\"Sandwiches\"}],\"rating\":4.5,\"coordinates\":{\"latitude\":39.3016690736,\"longitude\":-76.5480052736},\"transactions\":[\"delivery\"],\"price\":\"$$\",\"location\":{\"address1\":\"5801 Pulaski Hwy\",\"address2\":\"\",\"address3\":\"\",\"city\":\"Baltimore\",\"zip_code\":\"21205\",\"country\":\"US\",\"state\":\"MD\",\"display_address\":[\"5801 Pulaski Hwy\",\"Baltimore, MD 21205\"]},\"phone\":\"+14104832379\",\"display_phone\":\"(410) 483-2379\",\"distance\":5319.2507024884},{\"id\":\"0_mX70KNZZXOUna_dxSgIA\",\"alias\":\"groundwork-kitchen-baltimore-3\",\"name\":\"Groundwork Kitchen\",\"image_url\":\"https:\\\\/\\\\/s3-media2.fl.yelpcdn.com\\\\/bphoto\\\\/qakvzMsxzJodzYYEj38Lbw\\\\/o.jpg\",\"is_closed\":false,\"url\":\"https:\\\\/\\\\/www.yelp.com\\\\/biz\\\\/groundwork-kitchen-baltimore-3?adjust_creative=eXgc5GOsWJUbUzVXXSFHSQ&utm_campaign=yelp_api_v3&utm_medium=api_v3_business_search&utm_source=eXgc5GOsWJUbUzVXXSFHSQ\",\"review_count\":19,\"categories\":[{\"alias\":\"tradamerican\",\"title\":\"American (Traditional)\"}],\"rating\":4.5,\"coordinates\":{\"latitude\":39.2826635906,\"longitude\":-76.6317410336},\"transactions\":[\"delivery\",\"pickup\"],\"price\":null,\"location\":{\"address1\":\"925 Washington Blvd\",\"address2\":null,\"address3\":\"\",\"city\":\"Baltimore\",\"zip_code\":\"21230\",\"country\":\"US\",\"state\":\"MD\",\"display_address\":[\"925 Washington Blvd\",\"Baltimore, MD 21230\"]},\"phone\":\"+14438737833\",\"display_phone\":\"(443) 873-7833\",\"distance\":3546.776751332},{\"id\":\"_BLWc3XEjjKomW-MZ6wQoQ\",\"alias\":\"tortilleria-sinaloa-baltimore\",\"name\":\"Tortilleria Sinaloa\",\"image_url\":\"https:\\\\/\\\\/s3-media1.fl.yelpcdn.com\\\\/bphoto\\\\/Ldu6GPYiwmyH8Ppk3g6QzA\\\\/o.jpg\",\"is_closed\":false,\"url\":\"https:\\\\/\\\\/www.yelp.com\\\\/biz\\\\/tortilleria-sinaloa-baltimore?adjust_creative=eXgc5GOsWJUbUzVXXSFHSQ&utm_campaign=yelp_api_v3&utm_medium=api_v3_business_search&utm_source=eXgc5GOsWJUbUzVXXSFHSQ\",\"review_count\":397,\"categories\":[{\"alias\":\"mexican\",\"title\":\"Mexican\"},{\"alias\":\"breakfast_brunch\",\"title\":\"Breakfast & Brunch\"}],\"rating\":4.5,\"coordinates\":{\"latitude\":39.28581,\"longitude\":-76.59251},\"transactions\":[\"delivery\"],\"price\":\"$\",\"location\":{\"address1\":\"1716 Eastern Ave\",\"address2\":null,\"address3\":\"\",\"city\":\"Baltimore\",\"zip_code\":\"21231\",\"country\":\"US\",\"state\":\"MD\",\"display_address\":[\"1716 Eastern Ave\",\"Baltimore, MD 21231\"]},\"phone\":\"+14102763741\",\"display_phone\":\"(410) 276-3741\",\"distance\":2978.7133858104},{\"id\":\"JY72TrhFESLIJsXz5Na_iA\",\"alias\":\"toki-underground-baltimore\",\"name\":\"Toki Underground\",\"image_url\":\"https:\\\\/\\\\/s3-media4.fl.yelpcdn.com\\\\/bphoto\\\\/8JPqZhwfbqPcJ5bmKQSh8w\\\\/o.jpg\",\"is_closed\":false,\"url\":\"https:\\\\/\\\\/www.yelp.com\\\\/biz\\\\/toki-underground-baltimore?adjust_creative=eXgc5GOsWJUbUzVXXSFHSQ&utm_campaign=yelp_api_v3&utm_medium=api_v3_business_search&utm_source=eXgc5GOsWJUbUzVXXSFHSQ\",\"review_count\":18,\"categories\":[{\"alias\":\"ramen\",\"title\":\"Ramen\"},{\"alias\":\"cocktailbars\",\"title\":\"Cocktail Bars\"}],\"rating\":4.5,\"coordinates\":{\"latitude\":39.321619,\"longitude\":-76.609174},\"transactions\":[\"restaurant_reservation\"],\"price\":\"$$\",\"location\":{\"address1\":\"2731 Greenmount Ave\",\"address2\":\"\",\"address3\":null,\"city\":\"Baltimore\",\"zip_code\":\"21218\",\"country\":\"US\",\"state\":\"MD\",\"display_address\":[\"2731 Greenmount Ave\",\"Baltimore, MD 21218\"]},\"phone\":\"+14434495392\",\"display_phone\":\"(443) 449-5392\",\"distance\":1370.5576725778},{\"id\":\"l0QysjKWxGEULPH3R0MOOA\",\"alias\":\"connies-chicken-and-waffles-baltimore-2\",\"name\":\"Connie\\'s Chicken and Waffles\",\"image_url\":\"https:\\\\/\\\\/s3-media2.fl.yelpcdn.com\\\\/bphoto\\\\/UKwGMuHnA0uUZ0yE9vkmTg\\\\/o.jpg\",\"is_closed\":false,\"url\":\"https:\\\\/\\\\/www.yelp.com\\\\/biz\\\\/connies-chicken-and-waffles-baltimore-2?adjust_creative=eXgc5GOsWJUbUzVXXSFHSQ&utm_campaign=yelp_api_v3&utm_medium=api_v3_business_search&utm_source=eXgc5GOsWJUbUzVXXSFHSQ\",\"review_count\":133,\"categories\":[{\"alias\":\"southern\",\"title\":\"Southern\"},{\"alias\":\"chicken_wings\",\"title\":\"Chicken Wings\"},{\"alias\":\"waffles\",\"title\":\"Waffles\"}],\"rating\":4.5,\"coordinates\":{\"latitude\":39.29107,\"longitude\":-76.62171},\"transactions\":[\"delivery\",\"pickup\"],\"price\":\"$\",\"location\":{\"address1\":\"112 N Eutaw St\",\"address2\":\"\",\"address3\":\"Lexington Market\",\"city\":\"Baltimore\",\"zip_code\":\"21201\",\"country\":\"US\",\"state\":\"MD\",\"display_address\":[\"112 N Eutaw St\",\"Lexington Market\",\"Baltimore, MD 21201\"]},\"phone\":\"+14105280555\",\"display_phone\":\"(410) 528-0555\",\"distance\":2299.181038504},{\"id\":\"9PgU81DELsu8GaVX8FT45w\",\"alias\":\"underground-pizza-baltimore-2\",\"name\":\"Underground Pizza\",\"image_url\":\"https:\\\\/\\\\/s3-media4.fl.yelpcdn.com\\\\/bphoto\\\\/-mrkDozXlFidWjY678BjuQ\\\\/o.jpg\",\"is_closed\":false,\"url\":\"https:\\\\/\\\\/www.yelp.com\\\\/biz\\\\/underground-pizza-baltimore-2?adjust_creative=eXgc5GOsWJUbUzVXXSFHSQ&utm_campaign=yelp_api_v3&utm_medium=api_v3_business_search&utm_source=eXgc5GOsWJUbUzVXXSFHSQ\",\"review_count\":367,\"categories\":[{\"alias\":\"pizza\",\"title\":\"Pizza\"},{\"alias\":\"salad\",\"title\":\"Salad\"},{\"alias\":\"sandwiches\",\"title\":\"Sandwiches\"}],\"rating\":4.5,\"coordinates\":{\"latitude\":39.28907,\"longitude\":-76.607268},\"transactions\":[\"delivery\"],\"price\":\"$$\",\"location\":{\"address1\":\"30 Market Pl\",\"address2\":\"\",\"address3\":null,\"city\":\"Baltimore\",\"zip_code\":\"21202\",\"country\":\"US\",\"state\":\"MD\",\"display_address\":[\"30 Market Pl\",\"Baltimore, MD 21202\"]},\"phone\":\"+14433476190\",\"display_phone\":\"(443) 347-6190\",\"distance\":2255.1982960186},{\"id\":\"X0LxFnup529kZ9x2QoYIkA\",\"alias\":\"charming-elephant-baltimore\",\"name\":\"Charming Elephant\",\"image_url\":\"https:\\\\/\\\\/s3-media2.fl.yelpcdn.com\\\\/bphoto\\\\/9mUvZmWFqikAXDFAB-IlwQ\\\\/o.jpg\",\"is_closed\":false,\"url\":\"https:\\\\/\\\\/www.yelp.com\\\\/biz\\\\/charming-elephant-baltimore?adjust_creative=eXgc5GOsWJUbUzVXXSFHSQ&utm_campaign=yelp_api_v3&utm_medium=api_v3_business_search&utm_source=eXgc5GOsWJUbUzVXXSFHSQ\",\"review_count\":155,\"categories\":[{\"alias\":\"laotian\",\"title\":\"Laotian\"}],\"rating\":4.5,\"coordinates\":{\"latitude\":39.28281,\"longitude\":-76.583637},\"transactions\":[\"delivery\",\"pickup\"],\"price\":\"$$\",\"location\":{\"address1\":\"2324 Boston St\",\"address2\":\"Ste B\",\"address3\":\"\",\"city\":\"Baltimore\",\"zip_code\":\"21224\",\"country\":\"US\",\"state\":\"MD\",\"display_address\":[\"2324 Boston St\",\"Ste B\",\"Baltimore, MD 21224\"]},\"phone\":\"+14437087762\",\"display_phone\":\"(443) 708-7762\",\"distance\":3664.2255966856},{\"id\":\"lcz_Ii5EgQ2lfse_XNMvAA\",\"alias\":\"kneads-bakeshop-baltimore-4\",\"name\":\"Kneads Bakeshop\",\"image_url\":\"https:\\\\/\\\\/s3-media1.fl.yelpcdn.com\\\\/bphoto\\\\/RqU2wXs1DFtcW1r1f9zGLA\\\\/o.jpg\",\"is_closed\":false,\"url\":\"https:\\\\/\\\\/www.yelp.com\\\\/biz\\\\/kneads-bakeshop-baltimore-4?adjust_creative=eXgc5GOsWJUbUzVXXSFHSQ&utm_campaign=yelp_api_v3&utm_medium=api_v3_business_search&utm_source=eXgc5GOsWJUbUzVXXSFHSQ\",\"review_count\":94,\"categories\":[{\"alias\":\"bakeries\",\"title\":\"Bakeries\"},{\"alias\":\"coffee\",\"title\":\"Coffee & Tea\"},{\"alias\":\"newamerican\",\"title\":\"American (New)\"}],\"rating\":4.0,\"coordinates\":{\"latitude\":39.284831949,\"longitude\":-76.5994574577},\"transactions\":[\"delivery\",\"pickup\"],\"price\":null,\"location\":{\"address1\":\"506 S. Central Ave\",\"address2\":\"\",\"address3\":null,\"city\":\"Baltimore\",\"zip_code\":\"21202\",\"country\":\"US\",\"state\":\"MD\",\"display_address\":[\"506 S. Central Ave\",\"Baltimore, MD 21202\"]},\"phone\":\"+14102200907\",\"display_phone\":\"(410) 220-0907\",\"distance\":2841.4455198445},{\"id\":\"Dt1gcT7r3Zs47NeRh5gPwg\",\"alias\":\"caribbean-dynasty-baltimore\",\"name\":\"Caribbean Dynasty\",\"image_url\":\"https:\\\\/\\\\/s3-media3.fl.yelpcdn.com\\\\/bphoto\\\\/e0e4ldiBebhkpWOh0tgBVA\\\\/o.jpg\",\"is_closed\":false,\"url\":\"https:\\\\/\\\\/www.yelp.com\\\\/biz\\\\/caribbean-dynasty-baltimore?adjust_creative=eXgc5GOsWJUbUzVXXSFHSQ&utm_campaign=yelp_api_v3&utm_medium=api_v3_business_search&utm_source=eXgc5GOsWJUbUzVXXSFHSQ\",\"review_count\":10,\"categories\":[{\"alias\":\"caribbean\",\"title\":\"Caribbean\"},{\"alias\":\"lounges\",\"title\":\"Lounges\"}],\"rating\":4.5,\"coordinates\":{\"latitude\":39.28596,\"longitude\":-76.62514},\"transactions\":[\"delivery\",\"pickup\"],\"price\":null,\"location\":{\"address1\":\"647 W Pratt St\",\"address2\":null,\"address3\":\"\",\"city\":\"Baltimore\",\"zip_code\":\"21201\",\"country\":\"US\",\"state\":\"MD\",\"display_address\":[\"647 W Pratt St\",\"Baltimore, MD 21201\"]},\"phone\":\"+14434384126\",\"display_phone\":\"(443) 438-4126\",\"distance\":2943.5800647694},{\"id\":\"FFbu55C56k5YxZvr9emNKw\",\"alias\":\"the-bun-shop-baltimore\",\"name\":\"The Bun Shop\",\"image_url\":\"https:\\\\/\\\\/s3-media2.fl.yelpcdn.com\\\\/bphoto\\\\/tCdwtvqLxr34-K6Asr6Lng\\\\/o.jpg\",\"is_closed\":false,\"url\":\"https:\\\\/\\\\/www.yelp.com\\\\/biz\\\\/the-bun-shop-baltimore?adjust_creative=eXgc5GOsWJUbUzVXXSFHSQ&utm_campaign=yelp_api_v3&utm_medium=api_v3_business_search&utm_source=eXgc5GOsWJUbUzVXXSFHSQ\",\"review_count\":583,\"categories\":[{\"alias\":\"breakfast_brunch\",\"title\":\"Breakfast & Brunch\"},{\"alias\":\"coffee\",\"title\":\"Coffee & Tea\"},{\"alias\":\"desserts\",\"title\":\"Desserts\"}],\"rating\":4.0,\"coordinates\":{\"latitude\":39.30061,\"longitude\":-76.61957},\"transactions\":[\"delivery\"],\"price\":\"$\",\"location\":{\"address1\":\"239 W Read St\",\"address2\":\"\",\"address3\":\"\",\"city\":\"Baltimore\",\"zip_code\":\"21201\",\"country\":\"US\",\"state\":\"MD\",\"display_address\":[\"239 W Read St\",\"Baltimore, MD 21201\"]},\"phone\":\"+14109892033\",\"display_phone\":\"(410) 989-2033\",\"distance\":1319.2280551332},{\"id\":\"O2ZrDUuqXoluq9cmrFhoyg\",\"alias\":\"mount-vernon-marketplace-baltimore-2\",\"name\":\"Mount Vernon Marketplace\",\"image_url\":\"https:\\\\/\\\\/s3-media4.fl.yelpcdn.com\\\\/bphoto\\\\/8DoiN7JVjJqvCExbNxQ8fQ\\\\/o.jpg\",\"is_closed\":false,\"url\":\"https:\\\\/\\\\/www.yelp.com\\\\/biz\\\\/mount-vernon-marketplace-baltimore-2?adjust_creative=eXgc5GOsWJUbUzVXXSFHSQ&utm_campaign=yelp_api_v3&utm_medium=api_v3_business_search&utm_source=eXgc5GOsWJUbUzVXXSFHSQ\",\"review_count\":259,\"categories\":[{\"alias\":\"food_court\",\"title\":\"Food Court\"}],\"rating\":4.5,\"coordinates\":{\"latitude\":39.295902,\"longitude\":-76.618819},\"transactions\":[\"delivery\",\"pickup\"],\"price\":\"$$\",\"location\":{\"address1\":\"520 Park Ave\",\"address2\":\"\",\"address3\":\"\",\"city\":\"Baltimore\",\"zip_code\":\"21201\",\"country\":\"US\",\"state\":\"MD\",\"display_address\":[\"520 Park Ave\",\"Baltimore, MD 21201\"]},\"phone\":\"+14437967393\",\"display_phone\":\"(443) 796-7393\",\"distance\":1709.6759701724},{\"id\":\"UplfpgvI5BfuDjtolDrmsA\",\"alias\":\"blackwall-hitch-baltimore\",\"name\":\"Blackwall Hitch\",\"image_url\":\"https:\\\\/\\\\/s3-media2.fl.yelpcdn.com\\\\/bphoto\\\\/i0qW4FAidBq7-2NP2YSngw\\\\/o.jpg\",\"is_closed\":false,\"url\":\"https:\\\\/\\\\/www.yelp.com\\\\/biz\\\\/blackwall-hitch-baltimore?adjust_creative=eXgc5GOsWJUbUzVXXSFHSQ&utm_campaign=yelp_api_v3&utm_medium=api_v3_business_search&utm_source=eXgc5GOsWJUbUzVXXSFHSQ\",\"review_count\":783,\"categories\":[{\"alias\":\"newamerican\",\"title\":\"American (New)\"},{\"alias\":\"seafood\",\"title\":\"Seafood\"},{\"alias\":\"cocktailbars\",\"title\":\"Cocktail Bars\"}],\"rating\":4.0,\"coordinates\":{\"latitude\":39.287143,\"longitude\":-76.60606},\"transactions\":[],\"price\":\"$$\",\"location\":{\"address1\":\"700 E Pratt St\",\"address2\":null,\"address3\":\"\",\"city\":\"Baltimore\",\"zip_code\":\"21202\",\"country\":\"US\",\"state\":\"MD\",\"display_address\":[\"700 E Pratt St\",\"Baltimore, MD 21202\"]},\"phone\":\"+14437597176\",\"display_phone\":\"(443) 759-7176\",\"distance\":2451.5718073024},{\"id\":\"0CRuGK6BYfYFQ6UahcXjUA\",\"alias\":\"whitehall-mill-baltimore-2\",\"name\":\"Whitehall Mill\",\"image_url\":\"https:\\\\/\\\\/s3-media2.fl.yelpcdn.com\\\\/bphoto\\\\/oH2JP992TfATJpXCZfXytw\\\\/o.jpg\",\"is_closed\":false,\"url\":\"https:\\\\/\\\\/www.yelp.com\\\\/biz\\\\/whitehall-mill-baltimore-2?adjust_creative=eXgc5GOsWJUbUzVXXSFHSQ&utm_campaign=yelp_api_v3&utm_medium=api_v3_business_search&utm_source=eXgc5GOsWJUbUzVXXSFHSQ\",\"review_count\":28,\"categories\":[{\"alias\":\"food_court\",\"title\":\"Food Court\"}],\"rating\":4.5,\"coordinates\":{\"latitude\":39.326896,\"longitude\":-76.636295},\"transactions\":[],\"price\":\"$$\",\"location\":{\"address1\":\"3300 Clipper Mill Rd\",\"address2\":\"\",\"address3\":null,\"city\":\"Baltimore\",\"zip_code\":\"21211\",\"country\":\"US\",\"state\":\"MD\",\"display_address\":[\"3300 Clipper Mill Rd\",\"Baltimore, MD 21211\"]},\"phone\":\"\",\"display_phone\":\"\",\"distance\":3054.7795032416},{\"id\":\"gYNTkG_akLqsQ3AhWKVZ1g\",\"alias\":\"crazy-johns-baltimore\",\"name\":\"Crazy John\\'s\",\"image_url\":\"https:\\\\/\\\\/s3-media3.fl.yelpcdn.com\\\\/bphoto\\\\/qETghycdKeGsOISDyEN6Rw\\\\/o.jpg\",\"is_closed\":false,\"url\":\"https:\\\\/\\\\/www.yelp.com\\\\/biz\\\\/crazy-johns-baltimore?adjust_creative=eXgc5GOsWJUbUzVXXSFHSQ&utm_campaign=yelp_api_v3&utm_medium=api_v3_business_search&utm_source=eXgc5GOsWJUbUzVXXSFHSQ\",\"review_count\":43,\"categories\":[{\"alias\":\"diners\",\"title\":\"Diners\"}],\"rating\":3.5,\"coordinates\":{\"latitude\":39.2898726,\"longitude\":-76.6099701},\"transactions\":[\"delivery\",\"pickup\"],\"price\":\"$\",\"location\":{\"address1\":\"410 E Baltimore St\",\"address2\":\"\",\"address3\":\"\",\"city\":\"Baltimore\",\"zip_code\":\"21202\",\"country\":\"US\",\"state\":\"MD\",\"display_address\":[\"410 E Baltimore St\",\"Baltimore, MD 21202\"]},\"phone\":\"+14106250363\",\"display_phone\":\"(410) 625-0363\",\"distance\":2147.3562530363},{\"id\":\"H2CkERKKqTF3mBZHg9kHFQ\",\"alias\":\"ejji-baltimore-2\",\"name\":\"EJJI\",\"image_url\":\"https:\\\\/\\\\/s3-media2.fl.yelpcdn.com\\\\/bphoto\\\\/ETVxev23Uki_V3uJR2jTYg\\\\/o.jpg\",\"is_closed\":false,\"url\":\"https:\\\\/\\\\/www.yelp.com\\\\/biz\\\\/ejji-baltimore-2?adjust_creative=eXgc5GOsWJUbUzVXXSFHSQ&utm_campaign=yelp_api_v3&utm_medium=api_v3_business_search&utm_source=eXgc5GOsWJUbUzVXXSFHSQ\",\"review_count\":51,\"categories\":[{\"alias\":\"ramen\",\"title\":\"Ramen\"}],\"rating\":4.5,\"coordinates\":{\"latitude\":39.282525,\"longitude\":-76.5987055},\"transactions\":[\"delivery\",\"pickup\"],\"price\":null,\"location\":{\"address1\":\"711 S Central Ave\",\"address2\":\"Fl 2\",\"address3\":\"\",\"city\":\"Baltimore\",\"zip_code\":\"21202\",\"country\":\"US\",\"state\":\"MD\",\"display_address\":[\"711 S Central Ave\",\"Fl 2\",\"Baltimore, MD 21202\"]},\"phone\":\"+14434383610\",\"display_phone\":\"(443) 438-3610\",\"distance\":3105.73465975},{\"id\":\"SvVrpe8VqglIRNhfOo1_1A\",\"alias\":\"iron-rooster-baltimore\",\"name\":\"Iron Rooster\",\"image_url\":\"https:\\\\/\\\\/s3-media2.fl.yelpcdn.com\\\\/bphoto\\\\/ZV8WyYODu1IkuTxEJ9ZC_w\\\\/o.jpg\",\"is_closed\":false,\"url\":\"https:\\\\/\\\\/www.yelp.com\\\\/biz\\\\/iron-rooster-baltimore?adjust_creative=eXgc5GOsWJUbUzVXXSFHSQ&utm_campaign=yelp_api_v3&utm_medium=api_v3_business_search&utm_source=eXgc5GOsWJUbUzVXXSFHSQ\",\"review_count\":1033,\"categories\":[{\"alias\":\"tradamerican\",\"title\":\"American (Traditional)\"},{\"alias\":\"breakfast_brunch\",\"title\":\"Breakfast & Brunch\"}],\"rating\":4.0,\"coordinates\":{\"latitude\":39.2764795638,\"longitude\":-76.5653344921},\"transactions\":[\"delivery\",\"pickup\"],\"price\":\"$$\",\"location\":{\"address1\":\"3721 Boston St\",\"address2\":\"\",\"address3\":\"Canton Crossing\",\"city\":\"Baltimore\",\"zip_code\":\"21224\",\"country\":\"US\",\"state\":\"MD\",\"display_address\":[\"3721 Boston St\",\"Canton Crossing\",\"Baltimore, MD 21224\"]},\"phone\":\"+14107622100\",\"display_phone\":\"(410) 762-2100\",\"distance\":5239.5496400063},{\"id\":\"rtJyAgZTFkPigOSXdvD-HA\",\"alias\":\"mama-rosa-grill-baltimore-baltimore\",\"name\":\"Mama Rosa Grill - Baltimore\",\"image_url\":\"https:\\\\/\\\\/s3-media1.fl.yelpcdn.com\\\\/bphoto\\\\/d3AhAeE-h_Bq5WIyEWaLBg\\\\/o.jpg\",\"is_closed\":false,\"url\":\"https:\\\\/\\\\/www.yelp.com\\\\/biz\\\\/mama-rosa-grill-baltimore-baltimore?adjust_creative=eXgc5GOsWJUbUzVXXSFHSQ&utm_campaign=yelp_api_v3&utm_medium=api_v3_business_search&utm_source=eXgc5GOsWJUbUzVXXSFHSQ\",\"review_count\":45,\"categories\":[{\"alias\":\"filipino\",\"title\":\"Filipino\"}],\"rating\":4.5,\"coordinates\":{\"latitude\":39.250009,\"longitude\":-76.6392977},\"transactions\":[\"delivery\",\"pickup\"],\"price\":\"$$\",\"location\":{\"address1\":\"3321 Annapolis Rd\",\"address2\":null,\"address3\":\"\",\"city\":\"Baltimore\",\"zip_code\":\"21230\",\"country\":\"US\",\"state\":\"MD\",\"display_address\":[\"3321 Annapolis Rd\",\"Baltimore, MD 21230\"]},\"phone\":\"+14104699600\",\"display_phone\":\"(410) 469-9600\",\"distance\":7144.1710656337},{\"id\":\"BctKgpeSMajSnqAC4tJ6hA\",\"alias\":\"yeeros-baltimore\",\"name\":\"Yeeros\",\"image_url\":\"https:\\\\/\\\\/s3-media4.fl.yelpcdn.com\\\\/bphoto\\\\/CuB6yyc0NbtDxN0qLOMg_w\\\\/o.jpg\",\"is_closed\":false,\"url\":\"https:\\\\/\\\\/www.yelp.com\\\\/biz\\\\/yeeros-baltimore?adjust_creative=eXgc5GOsWJUbUzVXXSFHSQ&utm_campaign=yelp_api_v3&utm_medium=api_v3_business_search&utm_source=eXgc5GOsWJUbUzVXXSFHSQ\",\"review_count\":62,\"categories\":[{\"alias\":\"greek\",\"title\":\"Greek\"}],\"rating\":5.0,\"coordinates\":{\"latitude\":39.2765,\"longitude\":-76.61351},\"transactions\":[\"delivery\",\"pickup\"],\"price\":null,\"location\":{\"address1\":\"17 E Cross St\",\"address2\":null,\"address3\":\"\",\"city\":\"Baltimore\",\"zip_code\":\"21230\",\"country\":\"US\",\"state\":\"MD\",\"display_address\":[\"17 E Cross St\",\"Baltimore, MD 21230\"]},\"phone\":\"+16672604998\",\"display_phone\":\"(667) 260-4998\",\"distance\":3668.718621264}]'"
      ]
     },
     "execution_count": 11,
     "metadata": {},
     "output_type": "execute_result"
    }
   ],
   "source": [
    "businesses.to_json(orient='records')"
   ]
  }
 ],
 "metadata": {
  "kernelspec": {
   "display_name": "Python (dojo-env)",
   "language": "python",
   "name": "dojo-env"
  },
  "language_info": {
   "codemirror_mode": {
    "name": "ipython",
    "version": 3
   },
   "file_extension": ".py",
   "mimetype": "text/x-python",
   "name": "python",
   "nbconvert_exporter": "python",
   "pygments_lexer": "ipython3",
   "version": "3.9.15"
  },
  "toc": {
   "base_numbering": 1,
   "nav_menu": {},
   "number_sections": false,
   "sideBar": true,
   "skip_h1_title": false,
   "title_cell": "Table of Contents",
   "title_sidebar": "Contents",
   "toc_cell": false,
   "toc_position": {},
   "toc_section_display": true,
   "toc_window_display": false
  }
 },
 "nbformat": 4,
 "nbformat_minor": 5
}
